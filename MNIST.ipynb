{
 "cells": [
  {
   "cell_type": "code",
   "execution_count": 1,
   "id": "095b2600-8d54-44f9-9164-8d15e176dbab",
   "metadata": {
    "tags": []
   },
   "outputs": [
    {
     "name": "stderr",
     "output_type": "stream",
     "text": [
      "C:\\Users\\almad\\anaconda3\\envs\\tensorflow2\\lib\\site-packages\\tqdm\\auto.py:21: TqdmWarning: IProgress not found. Please update jupyter and ipywidgets. See https://ipywidgets.readthedocs.io/en/stable/user_install.html\n",
      "  from .autonotebook import tqdm as notebook_tqdm\n"
     ]
    }
   ],
   "source": [
    "import numpy as np\n",
    "import tensorflow as tf\n",
    "\n",
    "import tensorflow_datasets as tfds"
   ]
  },
  {
   "cell_type": "code",
   "execution_count": 2,
   "id": "c6d393b9-ce83-4805-9525-d80423c33b7e",
   "metadata": {},
   "outputs": [
    {
     "name": "stderr",
     "output_type": "stream",
     "text": [
      "WARNING:absl:Warning: Setting shuffle_files=True because split=TRAIN and shuffle_files=None. This behavior will be deprecated on 2019-08-06, at which point shuffle_files=False will be the default for all splits.\n"
     ]
    }
   ],
   "source": [
    "dataset, mnist_info = tfds.load(name='mnist', with_info=True, as_supervised=True)"
   ]
  },
  {
   "cell_type": "code",
   "execution_count": 3,
   "id": "4f403cc1-5082-4a23-944b-ad3b682bb415",
   "metadata": {
    "tags": []
   },
   "outputs": [
    {
     "data": {
      "text/plain": [
       "tfds.core.DatasetInfo(\n",
       "    name='mnist',\n",
       "    version=1.0.0,\n",
       "    description='The MNIST database of handwritten digits.',\n",
       "    urls=['https://storage.googleapis.com/cvdf-datasets/mnist/'],\n",
       "    features=FeaturesDict({\n",
       "        'image': Image(shape=(28, 28, 1), dtype=tf.uint8),\n",
       "        'label': ClassLabel(shape=(), dtype=tf.int64, num_classes=10),\n",
       "    }),\n",
       "    total_num_examples=70000,\n",
       "    splits={\n",
       "        'test': 10000,\n",
       "        'train': 60000,\n",
       "    },\n",
       "    supervised_keys=('image', 'label'),\n",
       "    citation=\"\"\"@article{lecun2010mnist,\n",
       "      title={MNIST handwritten digit database},\n",
       "      author={LeCun, Yann and Cortes, Corinna and Burges, CJ},\n",
       "      journal={ATT Labs [Online]. Available: http://yann. lecun. com/exdb/mnist},\n",
       "      volume={2},\n",
       "      year={2010}\n",
       "    }\"\"\",\n",
       "    redistribution_info=,\n",
       ")"
      ]
     },
     "execution_count": 3,
     "metadata": {},
     "output_type": "execute_result"
    }
   ],
   "source": [
    "mnist_info"
   ]
  },
  {
   "cell_type": "code",
   "execution_count": 4,
   "id": "6862f0d2-8205-48da-a619-46009f3fa8b4",
   "metadata": {
    "tags": []
   },
   "outputs": [
    {
     "data": {
      "text/plain": [
       "6000"
      ]
     },
     "execution_count": 4,
     "metadata": {},
     "output_type": "execute_result"
    }
   ],
   "source": [
    "train, test = dataset['train'], dataset['test']\n",
    "\n",
    "num_validation_samples = int(0.1 * mnist_info.splits['train'].num_examples)\n",
    "num_validation_samples"
   ]
  },
  {
   "cell_type": "code",
   "execution_count": 5,
   "id": "a34b05b8-c118-4e30-b0d6-4b25a9bf54e0",
   "metadata": {
    "tags": []
   },
   "outputs": [],
   "source": [
    "def scale(image, label):\n",
    "    image = tf.cast(image, tf.float32)\n",
    "    image /= 255.\n",
    "    return image, label\n",
    "\n",
    "train_validation_scaled = train.map(scale)\n",
    "test_scaled = test.map(scale)\n",
    "\n",
    "BUFFER_SIZE = 10000\n",
    "BATCH_SIZE = 50\n",
    "\n",
    "train_validation_shuffled = train_validation_scaled.shuffle(BUFFER_SIZE)\n",
    "\n",
    "validation_data = train_validation_shuffled.take(num_validation_samples)\n",
    "train_data = train_validation_shuffled.skip(num_validation_samples)\n",
    "\n",
    "train_data = train_data.batch(BATCH_SIZE)\n",
    "validation_data = validation_data.batch(num_validation_samples)\n",
    "test_data = test_scaled.batch(mnist_info.splits['test'].num_examples)\n",
    "\n",
    "validation_inputs, validation_targets = next(iter(validation_data))"
   ]
  },
  {
   "cell_type": "markdown",
   "id": "55cc0774-86fc-41be-a1d9-b457fc1d2f8c",
   "metadata": {},
   "source": [
    "## Model"
   ]
  },
  {
   "cell_type": "code",
   "execution_count": 6,
   "id": "4a32b079-09eb-47ad-8919-dcba0ae4d00f",
   "metadata": {
    "tags": []
   },
   "outputs": [],
   "source": [
    "input_size = 784\n",
    "output_size = 10\n",
    "hidden_layer_size = 250\n",
    "\n",
    "model = tf.keras.Sequential([\n",
    "    tf.keras.layers.Flatten(input_shape=(28,28,1)),\n",
    "    tf.keras.layers.Dense(hidden_layer_size, activation='relu'),\n",
    "    tf.keras.layers.Dense(hidden_layer_size, activation='relu'),\n",
    "    tf.keras.layers.Dense(output_size, activation='softmax')\n",
    "])"
   ]
  },
  {
   "cell_type": "markdown",
   "id": "08931627-1471-4acd-8b51-81a24156784d",
   "metadata": {},
   "source": [
    "## Optimizer and the loss function"
   ]
  },
  {
   "cell_type": "code",
   "execution_count": 7,
   "id": "3b48ffa9-01a9-4fe0-bddd-beaf860653a2",
   "metadata": {
    "tags": []
   },
   "outputs": [],
   "source": [
    "model.compile(optimizer='Adam', loss='sparse_categorical_crossentropy', metrics=['accuracy'])"
   ]
  },
  {
   "cell_type": "markdown",
   "id": "051c127f-81ce-4fa2-8dee-0899f5535b7d",
   "metadata": {},
   "source": [
    "## Training"
   ]
  },
  {
   "cell_type": "code",
   "execution_count": 8,
   "id": "d14fb2a3-d6b6-4626-a5a2-92e1a95cf93b",
   "metadata": {
    "tags": []
   },
   "outputs": [
    {
     "name": "stdout",
     "output_type": "stream",
     "text": [
      "Epoch 1/10\n",
      "1080/1080 - 11s - loss: 0.2171 - accuracy: 0.9354 - val_loss: 0.1440 - val_accuracy: 0.9587 - 11s/epoch - 10ms/step\n",
      "Epoch 2/10\n",
      "1080/1080 - 8s - loss: 0.0864 - accuracy: 0.9736 - val_loss: 0.0784 - val_accuracy: 0.9768 - 8s/epoch - 7ms/step\n",
      "Epoch 3/10\n",
      "1080/1080 - 8s - loss: 0.0608 - accuracy: 0.9814 - val_loss: 0.0653 - val_accuracy: 0.9800 - 8s/epoch - 7ms/step\n",
      "Epoch 4/10\n",
      "1080/1080 - 8s - loss: 0.0473 - accuracy: 0.9853 - val_loss: 0.0505 - val_accuracy: 0.9852 - 8s/epoch - 7ms/step\n",
      "Epoch 5/10\n",
      "1080/1080 - 7s - loss: 0.0371 - accuracy: 0.9876 - val_loss: 0.0445 - val_accuracy: 0.9862 - 7s/epoch - 7ms/step\n",
      "Epoch 6/10\n",
      "1080/1080 - 7s - loss: 0.0294 - accuracy: 0.9909 - val_loss: 0.0359 - val_accuracy: 0.9885 - 7s/epoch - 7ms/step\n",
      "Epoch 7/10\n",
      "1080/1080 - 7s - loss: 0.0288 - accuracy: 0.9903 - val_loss: 0.0275 - val_accuracy: 0.9923 - 7s/epoch - 7ms/step\n",
      "Epoch 8/10\n",
      "1080/1080 - 9s - loss: 0.0208 - accuracy: 0.9929 - val_loss: 0.0406 - val_accuracy: 0.9895 - 9s/epoch - 8ms/step\n",
      "Epoch 9/10\n",
      "1080/1080 - 8s - loss: 0.0202 - accuracy: 0.9935 - val_loss: 0.0263 - val_accuracy: 0.9925 - 8s/epoch - 7ms/step\n",
      "Epoch 10/10\n",
      "1080/1080 - 8s - loss: 0.0198 - accuracy: 0.9939 - val_loss: 0.0252 - val_accuracy: 0.9913 - 8s/epoch - 8ms/step\n"
     ]
    },
    {
     "data": {
      "text/plain": [
       "<keras.callbacks.History at 0x18de6e18190>"
      ]
     },
     "execution_count": 8,
     "metadata": {},
     "output_type": "execute_result"
    }
   ],
   "source": [
    "NUM_EPOCHS = 10\n",
    "\n",
    "model.fit(train_data, epochs = NUM_EPOCHS, validation_data=(validation_inputs, validation_targets), verbose=2)"
   ]
  },
  {
   "cell_type": "markdown",
   "id": "d45ed7d3-f169-444f-beb4-1c31d2802534",
   "metadata": {},
   "source": [
    "## Testing"
   ]
  },
  {
   "cell_type": "code",
   "execution_count": 9,
   "id": "7d934729-2681-4148-a43f-fb89431cbbbe",
   "metadata": {
    "tags": []
   },
   "outputs": [
    {
     "name": "stdout",
     "output_type": "stream",
     "text": [
      "1/1 [==============================] - 1s 738ms/step - loss: 0.0828 - accuracy: 0.9789\n"
     ]
    }
   ],
   "source": [
    "test_loss, test_accuracy = model.evaluate(test_data)"
   ]
  },
  {
   "cell_type": "code",
   "execution_count": 10,
   "id": "6e0d8088-4e61-48de-8528-2ac18deabed9",
   "metadata": {
    "tags": []
   },
   "outputs": [
    {
     "name": "stdout",
     "output_type": "stream",
     "text": [
      "Test loss: 0.08. Test Accuracy: 97.9%\n"
     ]
    }
   ],
   "source": [
    "print(f'Test loss: {round(test_loss, 2)}. Test Accuracy: {round(test_accuracy*100, 1)}%')"
   ]
  },
  {
   "cell_type": "markdown",
   "id": "24f2345e-e693-435c-9998-cd315948e696",
   "metadata": {},
   "source": [
    "## Converting to TFLite "
   ]
  },
  {
   "cell_type": "code",
   "execution_count": 11,
   "id": "550d0c89-2511-44e7-8216-53e463fb924d",
   "metadata": {
    "tags": []
   },
   "outputs": [
    {
     "name": "stdout",
     "output_type": "stream",
     "text": [
      "INFO:tensorflow:Assets written to: C:\\Users\\almad\\AppData\\Local\\Temp\\tmp5uj2aycs\\assets\n"
     ]
    },
    {
     "name": "stderr",
     "output_type": "stream",
     "text": [
      "INFO:tensorflow:Assets written to: C:\\Users\\almad\\AppData\\Local\\Temp\\tmp5uj2aycs\\assets\n"
     ]
    }
   ],
   "source": [
    "converter = tf.lite.TFLiteConverter.from_keras_model(model)\n",
    "tflite_model = converter.convert()\n",
    "with open('model.tflite', 'wb') as f:  \n",
    "\tf.write(tflite_model)"
   ]
  },
  {
   "cell_type": "markdown",
   "id": "b8bc7cdc-2d19-4ea1-9e5e-ae094dba16ba",
   "metadata": {},
   "source": [
    "#### Predictions with TFLite"
   ]
  },
  {
   "cell_type": "code",
   "execution_count": 12,
   "id": "558d87d3-ee3a-48e5-9dad-f6d4b15c5be4",
   "metadata": {
    "tags": []
   },
   "outputs": [],
   "source": [
    "# First thing you need to do is to create an instance of TFLite interpreter\n",
    "# and allocate the input and output tensors to it.\n",
    "interpreter = tf.lite.Interpreter(model_path=\"model.tflite\")\n",
    "interpreter.allocate_tensors()"
   ]
  },
  {
   "cell_type": "code",
   "execution_count": 13,
   "id": "ecc88257-a5e8-4435-a7a4-41f7cd162a50",
   "metadata": {
    "tags": []
   },
   "outputs": [],
   "source": [
    "# Since TFLite is a bit low-level, we will need to provide the interpreter (model) \n",
    "# with an input/output index when making predictions.\n",
    "\n",
    "input_index = interpreter.get_input_details()[0]['index']\n",
    "output_index = interpreter.get_output_details()[0]['index']\n",
    "\n"
   ]
  }
 ],
 "metadata": {
  "kernelspec": {
   "display_name": "tensorflow2",
   "language": "python",
   "name": "tensorflow2"
  },
  "language_info": {
   "codemirror_mode": {
    "name": "ipython",
    "version": 3
   },
   "file_extension": ".py",
   "mimetype": "text/x-python",
   "name": "python",
   "nbconvert_exporter": "python",
   "pygments_lexer": "ipython3",
   "version": "3.10.13"
  }
 },
 "nbformat": 4,
 "nbformat_minor": 5
}
